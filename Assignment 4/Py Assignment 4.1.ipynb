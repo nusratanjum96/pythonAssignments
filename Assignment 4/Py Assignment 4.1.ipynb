{
 "cells": [
  {
   "cell_type": "code",
   "execution_count": 13,
   "metadata": {},
   "outputs": [
    {
     "name": "stdout",
     "output_type": "stream",
     "text": [
      "{'first name': 'Zia', 'lastname': 'Rehman', 'age': '30', 'city': 'Nawabshah'}\n"
     ]
    }
   ],
   "source": [
    "\"\"\"Question1:\n",
    "\n",
    "Use a dictionary to store information about a person you know. Store their first name, last name, age, and the city in which \n",
    "they live. You should have keys such as first_name, last_name, age, and city. Print each piece of information stored in \n",
    "your dictionary. Add a new key value pair about qualification then update the qualification value to high academic level \n",
    "then delete it.\n",
    "\n",
    "\"\"\"\n",
    "# Task 1 (Print each piece of information stored in your dictionary)\n",
    "\n",
    "\n",
    "person_info = { \n",
    "                    \"first name\": \"Zia\", \n",
    "                    \"lastname\": \"Rehman\", \n",
    "                    \"age\": \"30\", \n",
    "                    \"city\": \"Nawabshah\"\n",
    "              }\n",
    "\n",
    "print(person_info);\n",
    "\n"
   ]
  },
  {
   "cell_type": "code",
   "execution_count": 12,
   "metadata": {},
   "outputs": [
    {
     "name": "stdout",
     "output_type": "stream",
     "text": [
      "{'first name': 'Zia', 'lastname': 'Rehman', 'age': '30', 'city': 'Nawabshah', 'qualification': 'MSCS'}\n"
     ]
    }
   ],
   "source": [
    "# Task 2 (Add a new key value pair about qualification then update the qualification value to high academic level)\n",
    "\n",
    "\n",
    "person_info = { \n",
    "                    \"first name\": \"Zia\", \n",
    "                    \"lastname\": \"Rehman\", \n",
    "                    \"age\": \"30\", \n",
    "                    \"city\": \"Nawabshah\"\n",
    "              }\n",
    "\n",
    "\n",
    "person_info[\"qualification\"] = \"MSCS\"\n",
    "\n",
    "print(person_info);"
   ]
  },
  {
   "cell_type": "code",
   "execution_count": 10,
   "metadata": {},
   "outputs": [
    {
     "name": "stdout",
     "output_type": "stream",
     "text": [
      "{'first name': 'Zia', 'lastname': 'Rehman', 'age': '30', 'city': 'Nawabshah', 'qualification': 'MSCS'}\n",
      "{'first name': 'Zia', 'lastname': 'Rehman', 'age': '30', 'city': 'Nawabshah'}\n"
     ]
    }
   ],
   "source": [
    "# Task 3 (Add a new key value pair about qualification then update the qualification value to high academic level then delete it.)\n",
    "\n",
    "person_info = { \n",
    "                    \"first name\": \"Zia\", \n",
    "                    \"lastname\": \"Rehman\", \n",
    "                    \"age\": \"30\", \n",
    "                    \"city\": \"Nawabshah\"\n",
    "              }\n",
    "\n",
    "\n",
    "person_info[\"qualification\"] = \"MSCS\"\n",
    "\n",
    "print(person_info);\n",
    "\n",
    "del person_info[\"qualification\"]\n",
    "\n",
    "print(person_info);"
   ]
  },
  {
   "cell_type": "code",
   "execution_count": null,
   "metadata": {},
   "outputs": [],
   "source": []
  }
 ],
 "metadata": {
  "kernelspec": {
   "display_name": "Python 3",
   "language": "python",
   "name": "python3"
  },
  "language_info": {
   "codemirror_mode": {
    "name": "ipython",
    "version": 3
   },
   "file_extension": ".py",
   "mimetype": "text/x-python",
   "name": "python",
   "nbconvert_exporter": "python",
   "pygments_lexer": "ipython3",
   "version": "3.7.4"
  }
 },
 "nbformat": 4,
 "nbformat_minor": 2
}
