{
 "cells": [
  {
   "cell_type": "code",
   "execution_count": 2,
   "metadata": {},
   "outputs": [
    {
     "name": "stdout",
     "output_type": "stream",
     "text": [
      "\n",
      "Enter your age or 'q' to stop asking :3\n",
      "Your ticket is $10 !\n",
      "\n",
      "Enter your age or 'q' to stop asking :12\n",
      "Your ticket is $10 !\n",
      "\n",
      "Enter your age or 'q' to stop asking :q\n"
     ]
    }
   ],
   "source": [
    "\"\"\"\n",
    "Question3:\n",
    "A movie theater charges different ticket prices depending on a person’s age. If a person is under the age of 3, \n",
    "the ticket is free; if they are between 3 and 12, the ticket is $10; and if they are over age 12, \n",
    "the ticket is $15. Write a loop in which you ask users their age, and then tell them the cost of their movie ticket.\n",
    "\"\"\"\n",
    "\n",
    "\n",
    "flag = True\n",
    "while flag:\n",
    "    age = input(\"\\nEnter your age or 'q' to stop asking :\")\n",
    "    \n",
    "    if age.lower() == 'q':\n",
    "        flag = False\n",
    "    else:\n",
    "        int_age = int(age)\n",
    "        if int_age < 3:\n",
    "            print(\"Your ticket is free !\")\n",
    "        elif int_age >=3 and int_age <=12:\n",
    "            print(\"Your ticket is $10 !\")\n",
    "        elif int_age > 12:\n",
    "            print(\"Your ticket is $15 !\")\n"
   ]
  },
  {
   "cell_type": "code",
   "execution_count": null,
   "metadata": {},
   "outputs": [],
   "source": []
  }
 ],
 "metadata": {
  "kernelspec": {
   "display_name": "Python 3",
   "language": "python",
   "name": "python3"
  },
  "language_info": {
   "codemirror_mode": {
    "name": "ipython",
    "version": 3
   },
   "file_extension": ".py",
   "mimetype": "text/x-python",
   "name": "python",
   "nbconvert_exporter": "python",
   "pygments_lexer": "ipython3",
   "version": "3.7.4"
  }
 },
 "nbformat": 4,
 "nbformat_minor": 2
}
