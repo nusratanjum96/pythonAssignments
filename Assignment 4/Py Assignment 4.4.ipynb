{
 "cells": [
  {
   "cell_type": "code",
   "execution_count": 9,
   "metadata": {},
   "outputs": [
    {
     "name": "stdout",
     "output_type": "stream",
     "text": [
      "best book for harry potter fans is  Harry Potter and the Philosopher's Stone\n",
      "best book for harry potter fans is  Harry Potter and the Deathly Hallows\n"
     ]
    }
   ],
   "source": [
    "\"\"\"\n",
    "Question4:\n",
    "Write a function called favorite_book() that accepts one parameter, title. The function should print a message,\n",
    "such as One of my favorite books is Alice in Wonderland. Call the function, making sure to include a book title as an \n",
    "argument in the function call.\n",
    "\n",
    "\"\"\"\n",
    "\n",
    "\n",
    "def favorite_book(title):\n",
    "    print(\"best book for harry potter fans is \", title)\n",
    "    \n",
    "    \n",
    "    \n",
    "title = \"Harry Potter and the Philosopher's Stone\"\n",
    "favorite_book(title)\n",
    "\n",
    "title = \"Harry Potter and the Deathly Hallows\"\n",
    "favorite_book(title)\n",
    "    \n"
   ]
  },
  {
   "cell_type": "code",
   "execution_count": null,
   "metadata": {},
   "outputs": [],
   "source": []
  }
 ],
 "metadata": {
  "kernelspec": {
   "display_name": "Python 3",
   "language": "python",
   "name": "python3"
  },
  "language_info": {
   "codemirror_mode": {
    "name": "ipython",
    "version": 3
   },
   "file_extension": ".py",
   "mimetype": "text/x-python",
   "name": "python",
   "nbconvert_exporter": "python",
   "pygments_lexer": "ipython3",
   "version": "3.7.4"
  }
 },
 "nbformat": 4,
 "nbformat_minor": 2
}
