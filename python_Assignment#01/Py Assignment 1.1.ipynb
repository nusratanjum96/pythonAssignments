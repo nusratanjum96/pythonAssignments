{
 "cells": [
  {
   "cell_type": "code",
   "execution_count": 3,
   "metadata": {},
   "outputs": [
    {
     "name": "stdout",
     "output_type": "stream",
     "text": [
      "Twinkle, twinkle, little star,\n",
      "\tHow I wonder what you are!\n",
      "\t\tUp above the world so high,\n",
      "\t\tLike a diamond in the sky.\n",
      "Twinkle, twinkle, little star,\n",
      "\tHow I wonder what you are!\n"
     ]
    }
   ],
   "source": [
    "# 1. Write a Python program to print the following string in a specific format \n",
    "\n",
    "str_1 = \"Twinkle, twinkle, little star,\";\n",
    "str_2 = \"\\n\\tHow I wonder what you are!\";\n",
    "str_3 = \"\\n\\t\\tUp above the world so high,\";\n",
    "str_4 = \"\\n\\t\\tLike a diamond in the sky.\";\n",
    "str_5 = \"\\nTwinkle, twinkle, little star,\";\n",
    "str_6 = \"\\n\\tHow I wonder what you are!\";\n",
    "\n",
    "\n",
    "print(str_1+str_2+str_3+str_4+str_5+str_6);"
   ]
  },
  {
   "cell_type": "code",
   "execution_count": null,
   "metadata": {},
   "outputs": [],
   "source": []
  },
  {
   "cell_type": "code",
   "execution_count": null,
   "metadata": {},
   "outputs": [],
   "source": []
  }
 ],
 "metadata": {
  "kernelspec": {
   "display_name": "Python 3",
   "language": "python",
   "name": "python3"
  },
  "language_info": {
   "codemirror_mode": {
    "name": "ipython",
    "version": 3
   },
   "file_extension": ".py",
   "mimetype": "text/x-python",
   "name": "python",
   "nbconvert_exporter": "python",
   "pygments_lexer": "ipython3",
   "version": "3.7.4"
  }
 },
 "nbformat": 4,
 "nbformat_minor": 2
}
