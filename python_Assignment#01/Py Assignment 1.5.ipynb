{
 "cells": [
  {
   "cell_type": "code",
   "execution_count": 1,
   "metadata": {},
   "outputs": [
    {
     "name": "stdout",
     "output_type": "stream",
     "text": [
      "Enter First Name\n",
      "usama\n",
      "Enter Last Name\n",
      "rashid\n",
      "dihsar amasu\n"
     ]
    }
   ],
   "source": [
    "\"\"\"5. Write a Python program which accepts the user's first and last name and\n",
    "print them in reverse order with a space between them. \"\"\"\n",
    "\n",
    "print(\"Enter First Name\");\n",
    "first_name = input();\n",
    "print(\"Enter Last Name\");\n",
    "last_name = input();\n",
    "\n",
    "full_name = (first_name+\" \"+last_name)[::-1]\n",
    "\n",
    "print(full_name);"
   ]
  },
  {
   "cell_type": "code",
   "execution_count": null,
   "metadata": {},
   "outputs": [],
   "source": []
  }
 ],
 "metadata": {
  "kernelspec": {
   "display_name": "Python 3",
   "language": "python",
   "name": "python3"
  },
  "language_info": {
   "codemirror_mode": {
    "name": "ipython",
    "version": 3
   },
   "file_extension": ".py",
   "mimetype": "text/x-python",
   "name": "python",
   "nbconvert_exporter": "python",
   "pygments_lexer": "ipython3",
   "version": "3.7.4"
  }
 },
 "nbformat": 4,
 "nbformat_minor": 2
}
