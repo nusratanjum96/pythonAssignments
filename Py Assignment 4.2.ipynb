{
 "cells": [
  {
   "cell_type": "code",
   "execution_count": 5,
   "metadata": {},
   "outputs": [
    {
     "name": "stdout",
     "output_type": "stream",
     "text": [
      "{'country': 'Pakistan', 'population': 400000, 'fact': 'The City of Light'}\n",
      "{'country': 'France', 'population': 199000, 'fact': \"It's a beautiful place !\"}\n",
      "{'country': 'India', 'population': 145000, 'fact': 'It is technology hub !'}\n"
     ]
    }
   ],
   "source": [
    "\"\"\"\n",
    "Question2:\n",
    "Make a dictionary called cities. Use the names of three cities as keys in your dictionary. \n",
    "Create a dictionary of information about each city and include the country that the city is in, \n",
    "its approximate population, and one fact about that city. The keys for each city’s dictionary should be something \n",
    "like country, population, and fact. Print the name of each city and all of the information you have stored about it.\n",
    "\n",
    "\"\"\"\n",
    "\n",
    "\n",
    "\n",
    "cities = {\n",
    "    \"Karachi\" : {\n",
    "        \"country\"    : \"Pakistan\" ,\n",
    "        \"population\" :  400000,\n",
    "        \"fact\"       : \"The City of Light\"},\n",
    "    \n",
    "    \"Paris\": {\n",
    "        \"country\"    : \"France\" ,\n",
    "        \"population\" : 199000,\n",
    "        \"fact\"       : \"It's a beautiful place !\"},\n",
    "    \n",
    "    \"Banglore\"    : {\n",
    "        \"country\"    : \"India\" ,\n",
    "        \"population\" : 145000,\n",
    "        \"fact\"       : \"It is technology hub !\"}\n",
    "}\n",
    "\n",
    "\n",
    "\n",
    "for key, value in cities.items():\n",
    "    print(cities[key])\n"
   ]
  },
  {
   "cell_type": "code",
   "execution_count": null,
   "metadata": {},
   "outputs": [],
   "source": []
  }
 ],
 "metadata": {
  "kernelspec": {
   "display_name": "Python 3",
   "language": "python",
   "name": "python3"
  },
  "language_info": {
   "codemirror_mode": {
    "name": "ipython",
    "version": 3
   },
   "file_extension": ".py",
   "mimetype": "text/x-python",
   "name": "python",
   "nbconvert_exporter": "python",
   "pygments_lexer": "ipython3",
   "version": "3.7.4"
  }
 },
 "nbformat": 4,
 "nbformat_minor": 2
}
