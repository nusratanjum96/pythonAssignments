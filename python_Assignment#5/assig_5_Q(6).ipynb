{
 "cells": [
  {
   "cell_type": "code",
   "execution_count": 2,
   "metadata": {},
   "outputs": [
    {
     "name": "stdout",
     "output_type": "stream",
     "text": [
      "You bought: plazo\n",
      "You bought: makeup\n",
      "You bought: pumpie shoe\n",
      "You bought: jewellary\n",
      "You bought: blanket\n",
      "\n",
      "Your Shopping List are/is: ['plazo', 'makeup', 'pumpie shoe', 'jewellary', 'blanket']\n"
     ]
    }
   ],
   "source": [
    "  \n",
    "L=[]\n",
    "def shoppingCart(*items):\n",
    "    for i in items:\n",
    "        L.append(i)\n",
    "        print(\"You bought:\",i)\n",
    "    print('\\nYour Shopping List are/is:',L)\n",
    "shoppingCart(\"plazo\",\"makeup\",\"pumpie shoe\",\"jewellary\",\"blanket\")"
   ]
  },
  {
   "cell_type": "code",
   "execution_count": null,
   "metadata": {},
   "outputs": [],
   "source": []
  }
 ],
 "metadata": {
  "kernelspec": {
   "display_name": "Python 3",
   "language": "python",
   "name": "python3"
  },
  "language_info": {
   "codemirror_mode": {
    "name": "ipython",
    "version": 3
   },
   "file_extension": ".py",
   "mimetype": "text/x-python",
   "name": "python",
   "nbconvert_exporter": "python",
   "pygments_lexer": "ipython3",
   "version": "3.7.4"
  }
 },
 "nbformat": 4,
 "nbformat_minor": 2
}
