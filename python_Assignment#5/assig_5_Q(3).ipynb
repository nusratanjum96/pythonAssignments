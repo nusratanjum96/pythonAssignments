{
 "cells": [
  {
   "cell_type": "code",
   "execution_count": 3,
   "metadata": {},
   "outputs": [
    {
     "name": "stdout",
     "output_type": "stream",
     "text": [
      "Given List  [21, 11, 48, 7, 78, 66, 212, 167, 143]\n",
      "Even Numbers In A List Are:\n",
      "48\n",
      "78\n",
      "66\n",
      "212\n"
     ]
    }
   ],
   "source": [
    "l=[21,11,48,7,78,66,212,167,143]\n",
    "\n",
    "def printEvenNo(List):\n",
    "    print('Given List ',List)\n",
    "    print('Even Numbers In A List Are:')\n",
    "    for i in List:\n",
    "        if i%2==0:\n",
    "            print(i)\n",
    "\n",
    "printEvenNo(l)"
   ]
  },
  {
   "cell_type": "code",
   "execution_count": null,
   "metadata": {},
   "outputs": [],
   "source": []
  }
 ],
 "metadata": {
  "kernelspec": {
   "display_name": "Python 3",
   "language": "python",
   "name": "python3"
  },
  "language_info": {
   "codemirror_mode": {
    "name": "ipython",
    "version": 3
   },
   "file_extension": ".py",
   "mimetype": "text/x-python",
   "name": "python",
   "nbconvert_exporter": "python",
   "pygments_lexer": "ipython3",
   "version": "3.7.4"
  }
 },
 "nbformat": 4,
 "nbformat_minor": 2
}
