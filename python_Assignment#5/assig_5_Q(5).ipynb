{
 "cells": [
  {
   "cell_type": "code",
   "execution_count": 3,
   "metadata": {},
   "outputs": [
    {
     "name": "stdout",
     "output_type": "stream",
     "text": [
      "Enter Number: 10\n",
      "10 is not a prime number\n",
      "2 x 5 is 10\n"
     ]
    }
   ],
   "source": [
    "def prime(num):\n",
    "    if num > 1:\n",
    "       for i in range(2,num):\n",
    "           if (num % i) == 0:\n",
    "               print(num,\"is not a prime number\")\n",
    "               print(i,\"x\",num//i,\"is\",num)\n",
    "               break\n",
    "       else:\n",
    "           print(num,\"is a prime number\")\n",
    "\n",
    "    else:\n",
    "       print(num,\"is not a prime number\")\n",
    "prime(int(input('Enter Number: ')))"
   ]
  },
  {
   "cell_type": "code",
   "execution_count": null,
   "metadata": {},
   "outputs": [],
   "source": []
  }
 ],
 "metadata": {
  "kernelspec": {
   "display_name": "Python 3",
   "language": "python",
   "name": "python3"
  },
  "language_info": {
   "codemirror_mode": {
    "name": "ipython",
    "version": 3
   },
   "file_extension": ".py",
   "mimetype": "text/x-python",
   "name": "python",
   "nbconvert_exporter": "python",
   "pygments_lexer": "ipython3",
   "version": "3.7.4"
  }
 },
 "nbformat": 4,
 "nbformat_minor": 2
}
