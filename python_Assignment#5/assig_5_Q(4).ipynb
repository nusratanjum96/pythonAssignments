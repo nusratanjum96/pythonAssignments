{
 "cells": [
  {
   "cell_type": "code",
   "execution_count": 9,
   "metadata": {},
   "outputs": [
    {
     "name": "stdout",
     "output_type": "stream",
     "text": [
      "Given String (Tabat) Is Palindrome\n",
      "Given String Is (Nusrat) Not A Palindrome\n"
     ]
    }
   ],
   "source": [
    "def chkPal(string):\n",
    "    if string[:]==string[::-1]:\n",
    "        print(\"Given String (\"+string.title()+\") Is Palindrome\")\n",
    "    else:\n",
    "        print(\"Given String Is (\"+string.title()+\") Not A Palindrome\")\n",
    "\n",
    "chkPal('tabat'.lower())\n",
    "chkPal('nusrat'.lower())"
   ]
  },
  {
   "cell_type": "code",
   "execution_count": null,
   "metadata": {},
   "outputs": [],
   "source": []
  }
 ],
 "metadata": {
  "kernelspec": {
   "display_name": "Python 3",
   "language": "python",
   "name": "python3"
  },
  "language_info": {
   "codemirror_mode": {
    "name": "ipython",
    "version": 3
   },
   "file_extension": ".py",
   "mimetype": "text/x-python",
   "name": "python",
   "nbconvert_exporter": "python",
   "pygments_lexer": "ipython3",
   "version": "3.7.4"
  }
 },
 "nbformat": 4,
 "nbformat_minor": 2
}
