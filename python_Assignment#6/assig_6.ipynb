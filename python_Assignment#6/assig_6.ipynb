{
 "cells": [
  {
   "cell_type": "markdown",
   "metadata": {},
   "source": [
    "#Answer 01\n",
    "\n",
    "Object-oriented programming (OOP) refers to a type of computer programming (software design) in which programmers define\n",
    "the data type of a data structure, and also the types of operations (functions) that can be applied to the data structure.\n",
    "In this way, the data structure becomes an object that includes both data and functions. In addition, programmers can create\n",
    "relationships between one object and another. For example, objects can inherit characteristics from other objects.\n"
   ]
  },
  {
   "cell_type": "markdown",
   "metadata": {},
   "source": [
    "#Answer 02\n",
    "\n",
    "1. Re-usability\n",
    "2. Data Redundancy\n",
    "3. Code Maintenance\n",
    "4. Security\n",
    "5. Design Benefits\n",
    "6. Better productivity\n",
    "7. Easy troubleshooting\n",
    "8. Polymorphism Flexibility\n",
    "9. Problems solving"
   ]
  },
  {
   "cell_type": "markdown",
   "metadata": {},
   "source": [
    "#Answer 03\n",
    "\n",
    "A function is a piece of code that is called by name. It can be passed data to operate on (i.e. the parameters) and can\n",
    "optionally return data (the return value). All data that is passed to a function is explicitly passed. A method is a piece\n",
    "of code that is called by a name that is associated with an object.\n",
    "print()"
   ]
  },
  {
   "cell_type": "markdown",
   "metadata": {},
   "source": [
    "#Answer 04\n",
    "\n",
    "1.class    : A class is a generic template for a set of objects with similar features.\n",
    "\n",
    "2.attribute: Attributes are the individual things that differentiate one object from another and determine the appearance, \n",
    "             state, or other qualities of that object. Let's create a theoretical class called Motorcycle. A motorcycle\n",
    "             class mightinclude the following attributes and have these typical values:\n",
    "\n",
    "            Color: red, green, silver, brown\n",
    "            Style: cruiser, sport bike, standard\n",
    "            Make: Honda, BMW, Bultaco  \n",
    "\n",
    "3.behavior: A class's behavior determines how an instance of that class operates; for example, how it will \"react\" if asked\n",
    "            to do something by another class or object or if its internal state changes. Behavior is the only way objects \n",
    "            can do anything to themselves or have anything done to them. For example, to go back to the theoretical\n",
    "            Motorcycle class, here are some behaviors that the Motorcycle class might have:\n",
    "\n",
    "            Start the engine\n",
    "            Stop the engine\n",
    "            Speed up\n",
    "            Change gear\n",
    "           Stall    \n",
    "\n",
    "4.objects : A concrete instance of some class. Multiple objects that are instances of the same class have access to the same\n",
    "           methods,but often have different values for their instance variables.\n",
    "print()"
   ]
  },
  {
   "cell_type": "code",
   "execution_count": 1,
   "metadata": {},
   "outputs": [
    {
     "name": "stdout",
     "output_type": "stream",
     "text": [
      "Car Properties\n",
      "Name         : Civic\n",
      "Model        : 2019\n",
      "Color        : Black\n",
      "Company      : Honda\n",
      "Transmission : Auto \n",
      "\n",
      "Car Properties\n",
      "Name         : Coure\n",
      "Model        : 2009\n",
      "Color        : Brown\n",
      "Company      : Diahatsu\n",
      "Transmission : Manual \n",
      "\n",
      "Car Properties\n",
      "Name         : Corolla\n",
      "Model        : 2016\n",
      "Color        : Black\n",
      "Company      : Toyota\n",
      "Transmission : Auto \n",
      "\n",
      "Car Properties\n",
      "Name         : Mehran\n",
      "Model        : 2017\n",
      "Color        : Grey\n",
      "Company      : Suzuki\n",
      "Transmission : Manual \n",
      "\n",
      "Car Properties\n",
      "Name         : City\n",
      "Model        : 2018\n",
      "Color        : White\n",
      "Company      : Honda\n",
      "Transmission : Auto \n",
      "\n",
      "Before Changing :  Civic\n",
      "After Changing :  Pajero\n"
     ]
    }
   ],
   "source": [
    "#Answer 5\n",
    "\n",
    "class Car():\n",
    "    # Init method\n",
    "    def __init__(self, name, model, color, company, transmission):\n",
    "        self.name = name\n",
    "        self.model = model\n",
    "        self.color = color\n",
    "        self.company = company\n",
    "        self.transmission = transmission\n",
    "        \n",
    "    # show_properties method\n",
    "    def show_properties(self):\n",
    "        print(\"Car Properties\")\n",
    "        print(f\"Name         : {self.name}\")\n",
    "        print(f\"Model        : {self.model}\")\n",
    "        print(f\"Color        : {self.color}\")\n",
    "        print(f\"Company      : {self.company}\")\n",
    "        print(f\"Transmission : {self.transmission} \\n\")\n",
    "         # update_name method\n",
    "    def update_name(self, newname):\n",
    "        self.name = newname\n",
    "    \n",
    "    # update_color method\n",
    "    def update_color(self, newcolor):\n",
    "        self.color = newcolor\n",
    "\n",
    "\n",
    "        \n",
    "# Objects\n",
    "\n",
    "car1 = Car(\"Civic\", 2019, \"Black\", \"Honda\", \"Auto\")\n",
    "car2 = Car(\"Coure\", 2009, \"Brown\", \"Diahatsu\", \"Manual\")\n",
    "car3 = Car(\"Corolla\", 2016, \"Black\", \"Toyota\", \"Auto\")\n",
    "car4 = Car(\"Mehran\", 2017, \"Grey\", \"Suzuki\", \"Manual\")\n",
    "car5 = Car(\"City\", 2018, \"White\", \"Honda\", \"Auto\")\n",
    "\n",
    "# Calling methods\n",
    "car1.show_properties()\n",
    "car2.show_properties()\n",
    "car3.show_properties()\n",
    "car4.show_properties()\n",
    "car5.show_properties()\n",
    "         \n",
    "# Changing name\n",
    " # before Changing\n",
    "print(\"Before Changing : \",car1.name)\n",
    "car1.update_name(\"Pajero\")\n",
    "print(\"After Changing : \",car1.name)\n"
   ]
  },
  {
   "cell_type": "code",
   "execution_count": null,
   "metadata": {},
   "outputs": [],
   "source": []
  }
 ],
 "metadata": {
  "kernelspec": {
   "display_name": "Python 3",
   "language": "python",
   "name": "python3"
  },
  "language_info": {
   "codemirror_mode": {
    "name": "ipython",
    "version": 3
   },
   "file_extension": ".py",
   "mimetype": "text/x-python",
   "name": "python",
   "nbconvert_exporter": "python",
   "pygments_lexer": "ipython3",
   "version": "3.7.4"
  }
 },
 "nbformat": 4,
 "nbformat_minor": 2
}
